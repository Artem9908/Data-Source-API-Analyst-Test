{
 "cells": [
  {
   "cell_type": "code",
   "execution_count": 2,
   "metadata": {
    "colab": {
     "base_uri": "https://localhost:8080/",
     "height": 103
    },
    "id": "wgQcKYMswCXl",
    "outputId": "363a6092-8a33-486a-cbb2-f6fb7afd5d5c"
   },
   "outputs": [
    {
     "name": "stdout",
     "output_type": "stream",
     "text": [
      "Unzipping Content.zip...\n",
      "Unzipping completed.\n"
     ]
    }
   ],
   "source": [
    "import zipfile\n",
    "import os\n",
    "\n",
    "# Define the path to the zip file and extraction directory\n",
    "zip_filename = 'Content.zip'  # Adjust the filename if different\n",
    "extract_path = '/Users/artemdiachuk/Data-Source-API-Analyst-Test-2/'  # Adjust as needed\n",
    "\n",
    "# Check if the zip file exists\n",
    "if os.path.exists(zip_filename):\n",
    "    print(f'Unzipping {zip_filename}...')\n",
    "    with zipfile.ZipFile(zip_filename, 'r') as zip_ref:\n",
    "        zip_ref.extractall(extract_path)\n",
    "    print('Unzipping completed.')\n",
    "else:\n",
    "    print(f'{zip_filename} not found. Please ensure it is in the current directory.')\n"
   ]
  },
  {
   "cell_type": "code",
   "execution_count": 3,
   "metadata": {},
   "outputs": [
    {
     "name": "stdout",
     "output_type": "stream",
     "text": [
      "Current Working Directory: /Users/artemdiachuk/Data-Source-API-Analyst-Test-2\n"
     ]
    }
   ],
   "source": [
    "import os\n",
    "\n",
    "# Print the current working directory\n",
    "current_directory = os.getcwd()\n",
    "print(f'Current Working Directory: {current_directory}')\n"
   ]
  },
  {
   "cell_type": "code",
   "execution_count": 4,
   "metadata": {
    "colab": {
     "base_uri": "https://localhost:8080/"
    },
    "id": "ksqi5QLHwb6c",
    "outputId": "c8ce6826-db89-4c31-83d1-234a38e9578a"
   },
   "outputs": [
    {
     "name": "stdout",
     "output_type": "stream",
     "text": [
      "Python path updated with Content subdirectories.\n"
     ]
    }
   ],
   "source": [
    "import sys\n",
    "import os\n",
    "\n",
    "# Define the base path to the Content directory\n",
    "base_path = '/Users/artemdiachuk/Data-Source-API-Analyst-Test-2/Content'  # Adjust as needed\n",
    "\n",
    "# Define paths for subdirectories\n",
    "utils_path = os.path.join(base_path, 'utils')\n",
    "extraction_path = os.path.join(base_path, 'extraction')\n",
    "processing_path = os.path.join(base_path, 'processing')\n",
    "\n",
    "# Add subdirectories to sys.path for module imports\n",
    "sys.path.append(utils_path)\n",
    "sys.path.append(extraction_path)\n",
    "sys.path.append(processing_path)\n",
    "\n",
    "print('Python path updated with Content subdirectories.')\n"
   ]
  },
  {
   "cell_type": "code",
   "execution_count": 5,
   "metadata": {
    "colab": {
     "base_uri": "https://localhost:8080/"
    },
    "id": "ARjJJT0qYIsM",
    "outputId": "a6cf53dc-fc71-4698-c53b-0df54f077c88"
   },
   "outputs": [
    {
     "name": "stdout",
     "output_type": "stream",
     "text": [
      "All modules imported successfully.\n"
     ]
    }
   ],
   "source": [
    "import requests\n",
    "import json\n",
    "import time\n",
    "import os\n",
    "from getpass import getpass\n",
    "\n",
    "from authentication import get_github_token, create_headers\n",
    "from error_handling import safe_request\n",
    "from rate_limiting import check_rate_limit, wait_if_rate_limited\n",
    "from data_extraction import search_repositories, list_commits, get_repository_contents, save_response\n",
    "from pagination import fetch_all_pages\n",
    "from data_processing import (\n",
    "    load_raw_response,\n",
    "    save_cleaned_data,\n",
    "    clean_repository_data,\n",
    "    clean_commit_data,\n",
    "    clean_content_data\n",
    ")\n",
    "\n",
    "print('All modules imported successfully.')\n"
   ]
  },
  {
   "cell_type": "code",
   "execution_count": 6,
   "metadata": {
    "colab": {
     "base_uri": "https://localhost:8080/"
    },
    "id": "2OKvO0R20aIm",
    "outputId": "20fe10e3-1d0e-429f-b5c7-9f3a319f770d"
   },
   "outputs": [
    {
     "name": "stdout",
     "output_type": "stream",
     "text": [
      "Directory already exists: /Users/artemdiachuk/Data-Source-API-Analyst-Test-2/Content/saved_responses\n",
      "Created directory: /Users/artemdiachuk/Data-Source-API-Analyst-Test-2/Content/cleaned_data\n"
     ]
    }
   ],
   "source": [
    "directories = ['saved_responses', 'cleaned_data']\n",
    "\n",
    "for directory in directories:\n",
    "    dir_path = os.path.join(base_path, directory)\n",
    "    if not os.path.exists(dir_path):\n",
    "        os.makedirs(dir_path)\n",
    "        print(f'Created directory: {dir_path}')\n",
    "    else:\n",
    "        print(f'Directory already exists: {dir_path}')\n"
   ]
  },
  {
   "cell_type": "code",
   "execution_count": 7,
   "metadata": {
    "colab": {
     "base_uri": "https://localhost:8080/"
    },
    "id": "hK617j7ja6ht",
    "outputId": "75c49bfa-8343-447e-e8bc-a39bf1c6c445"
   },
   "outputs": [
    {
     "name": "stdout",
     "output_type": "stream",
     "text": [
      "Authentication headers created.\n"
     ]
    }
   ],
   "source": [
    "GITHUB_TOKEN = get_github_token()\n",
    "\n",
    "headers = create_headers(GITHUB_TOKEN)\n",
    "\n",
    "print('Authentication headers created.')"
   ]
  },
  {
   "cell_type": "code",
   "execution_count": 8,
   "metadata": {
    "id": "DwkDOsmrbN3L"
   },
   "outputs": [],
   "source": [
    "import pandas as pd\n",
    "\n",
    "def save_to_csv(data, filename):\n",
    "    \"\"\"\n",
    "    Save cleaned data to a CSV file.\n",
    "    \"\"\"\n",
    "    df = pd.DataFrame(data)\n",
    "    csv_path = os.path.join('cleaned_data', f'{filename}.csv')\n",
    "\n",
    "    os.makedirs(os.path.dirname(csv_path), exist_ok=True)\n",
    "\n",
    "    df.to_csv(csv_path, index=False)\n",
    "    print(f'Data saved to {csv_path}')\n"
   ]
  },
  {
   "cell_type": "code",
   "execution_count": 9,
   "metadata": {
    "id": "cBGf16-3bQoW"
   },
   "outputs": [],
   "source": [
    "def search_repositories_clean(query, per_page=30):\n",
    "    \"\"\"\n",
    "    Search public repositories and return cleaned data.\n",
    "    \"\"\"\n",
    "    print(f\"Searching repositories for query: '{query}'\")\n",
    "    cleaned_repositories = search_repositories(query, headers, per_page=per_page)\n",
    "    print(f\"Total repositories found: {len(cleaned_repositories)}\")\n",
    "\n",
    "    save_cleaned_data(cleaned_repositories, 'cleaned_search_repositories')\n",
    "\n",
    "    save_to_csv(cleaned_repositories, 'cleaned_search_repositories')\n",
    "\n",
    "    return cleaned_repositories\n"
   ]
  },
  {
   "cell_type": "code",
   "execution_count": 10,
   "metadata": {
    "colab": {
     "base_uri": "https://localhost:8080/"
    },
    "id": "J1bQN9F4bYQU",
    "outputId": "1ed6bf79-3b75-4a0a-954c-2352eb4c25fe"
   },
   "outputs": [
    {
     "name": "stdout",
     "output_type": "stream",
     "text": [
      "Searching repositories for query: 'machine learning'\n",
      "Total repositories found: 30\n",
      "Data saved to cleaned_data/cleaned_search_repositories.csv\n",
      "[\n",
      "  {\n",
      "    \"id\": 21872392,\n",
      "    \"name\": \"awesome-machine-learning\",\n",
      "    \"full_name\": \"josephmisiti/awesome-machine-learning\",\n",
      "    \"html_url\": \"https://github.com/josephmisiti/awesome-machine-learning\",\n",
      "    \"description\": \"A curated list of awesome Machine Learning frameworks, libraries and software.\",\n",
      "    \"owner\": \"josephmisiti\",\n",
      "    \"stargazers_count\": 66127,\n",
      "    \"forks_count\": 14656,\n",
      "    \"language\": \"Python\"\n",
      "  },\n",
      "  {\n",
      "    \"id\": 27595858,\n",
      "    \"name\": \"MachineLearning\",\n",
      "    \"full_name\": \"wepe/MachineLearning\",\n",
      "    \"html_url\": \"https://github.com/wepe/MachineLearning\",\n",
      "    \"description\": \"Basic Machine Learning and Deep Learning\",\n",
      "    \"owner\": \"wepe\",\n",
      "    \"stargazers_count\": 5253,\n",
      "    \"forks_count\": 3171,\n",
      "    \"language\": \"Python\"\n",
      "  }\n",
      "]\n"
     ]
    }
   ],
   "source": [
    "query = 'machine learning'\n",
    "\n",
    "cleaned_repos = search_repositories_clean(query)\n",
    "\n",
    "print(json.dumps(cleaned_repos[:2], indent=2))\n"
   ]
  },
  {
   "cell_type": "code",
   "execution_count": 11,
   "metadata": {
    "id": "On45Sl2gbakB"
   },
   "outputs": [],
   "source": [
    "def list_commits_clean(owner, repo, per_page=30):\n",
    "    \"\"\"\n",
    "    List commits for a repository and return cleaned data.\n",
    "    \"\"\"\n",
    "    print(f\"Listing commits for repository: {owner}/{repo}\")\n",
    "    cleaned_commits = list_commits(owner, repo, headers, per_page=per_page)\n",
    "    print(f\"Number of commits fetched: {len(cleaned_commits)}\")\n",
    "\n",
    "    save_cleaned_data(cleaned_commits, f'cleaned_commits_{owner}_{repo}')\n",
    "\n",
    "    save_to_csv(cleaned_commits, f'cleaned_commits_{owner}_{repo}')\n",
    "\n",
    "    return cleaned_commits\n"
   ]
  },
  {
   "cell_type": "code",
   "execution_count": 12,
   "metadata": {
    "colab": {
     "base_uri": "https://localhost:8080/"
    },
    "id": "lIQdMKPibin-",
    "outputId": "736e9427-f0f7-457d-c81e-b9de74fe814a"
   },
   "outputs": [
    {
     "name": "stdout",
     "output_type": "stream",
     "text": [
      "Listing commits for repository: Artem9908/Data-Source-API-Analyst-Test\n",
      "Number of commits fetched: 5\n",
      "Data saved to cleaned_data/cleaned_commits_Artem9908_Data-Source-API-Analyst-Test.csv\n",
      "[\n",
      "  {\n",
      "    \"sha\": \"07a1692fac98942890beb3658b49595f49c3265c\",\n",
      "    \"author\": \"Artem9908\",\n",
      "    \"date\": \"2024-11-27T12:42:13Z\",\n",
      "    \"message\": \"Update README.md\",\n",
      "    \"url\": \"https://github.com/Artem9908/Data-Source-API-Analyst-Test/commit/07a1692fac98942890beb3658b49595f49c3265c\"\n",
      "  },\n",
      "  {\n",
      "    \"sha\": \"a71ccca9514c20e8628a95e6a88ae264f0835b21\",\n",
      "    \"author\": \"Artem Diachuk\",\n",
      "    \"date\": \"2024-11-26T17:42:19Z\",\n",
      "    \"message\": \"Add content to Content folder files and update README\",\n",
      "    \"url\": \"https://github.com/Artem9908/Data-Source-API-Analyst-Test/commit/a71ccca9514c20e8628a95e6a88ae264f0835b21\"\n",
      "  }\n",
      "]\n"
     ]
    }
   ],
   "source": [
    "owner = 'Artem9908'\n",
    "repo = 'Data-Source-API-Analyst-Test'\n",
    "\n",
    "cleaned_commits = list_commits_clean(owner, repo)\n",
    "\n",
    "print(json.dumps(cleaned_commits[:2], indent=2))\n"
   ]
  },
  {
   "cell_type": "code",
   "execution_count": 13,
   "metadata": {
    "id": "enRdUyBvbofG"
   },
   "outputs": [],
   "source": [
    "def get_repository_contents_clean(owner, repo, path=''):\n",
    "    \"\"\"\n",
    "    Get repository contents and return cleaned data.\n",
    "    \"\"\"\n",
    "    if path:\n",
    "        print(f\"Fetching contents for {owner}/{repo} at path: '{path}'\")\n",
    "    else:\n",
    "        print(f\"Fetching root contents for {owner}/{repo}\")\n",
    "\n",
    "    cleaned_contents = get_repository_contents(owner, repo, headers, path)\n",
    "    print(f\"Number of items fetched: {len(cleaned_contents)}\")\n",
    "\n",
    "    save_cleaned_data(cleaned_contents, f'cleaned_contents_{owner}_{repo}_{path.replace(\"/\", \"_\")}')\n",
    "\n",
    "    save_to_csv(cleaned_contents, f'cleaned_contents_{owner}_{repo}_{path.replace(\"/\", \"_\")}')\n",
    "\n",
    "    return cleaned_contents\n"
   ]
  },
  {
   "cell_type": "code",
   "execution_count": 14,
   "metadata": {
    "colab": {
     "base_uri": "https://localhost:8080/"
    },
    "id": "UfDYmYSzbsqn",
    "outputId": "e362d6eb-abbe-4b3c-da08-05bdd70dab3a"
   },
   "outputs": [
    {
     "name": "stdout",
     "output_type": "stream",
     "text": [
      "Fetching root contents for Artem9908/Data-Source-API-Analyst-Test\n",
      "Number of items fetched: 3\n",
      "Data saved to cleaned_data/cleaned_contents_Artem9908_Data-Source-API-Analyst-Test_.csv\n",
      "[\n",
      "  {\n",
      "    \"name\": \"Content\",\n",
      "    \"path\": \"Content\",\n",
      "    \"type\": \"dir\",\n",
      "    \"download_url\": null\n",
      "  },\n",
      "  {\n",
      "    \"name\": \"Postman_Collection\",\n",
      "    \"path\": \"Postman_Collection\",\n",
      "    \"type\": \"dir\",\n",
      "    \"download_url\": null\n",
      "  }\n",
      "]\n"
     ]
    }
   ],
   "source": [
    "owner = 'Artem9908'\n",
    "repo = 'Data-Source-API-Analyst-Test'\n",
    "\n",
    "path = ''\n",
    "\n",
    "contents = get_repository_contents_clean(owner, repo, path)\n",
    "\n",
    "print(json.dumps(contents[:2], indent=2))\n"
   ]
  },
  {
   "cell_type": "code",
   "execution_count": 15,
   "metadata": {
    "id": "9qK8_GHxbvvX"
   },
   "outputs": [],
   "source": [
    "def check_rate_limit_status():\n",
    "    remaining, reset_time = check_rate_limit(headers)\n",
    "    reset_timestamp = time.strftime('%Y-%m-%d %H:%M:%S', time.localtime(reset_time))\n",
    "    print(f'Requests remaining: {remaining}')\n",
    "    print(f'Rate limit resets at: {reset_timestamp}')\n",
    "    return remaining, reset_timestamp"
   ]
  },
  {
   "cell_type": "code",
   "execution_count": 16,
   "metadata": {
    "colab": {
     "base_uri": "https://localhost:8080/"
    },
    "id": "ekxdW-1t1kc7",
    "outputId": "953cd89f-95f8-47cd-b53b-cdcc1be043bd"
   },
   "outputs": [
    {
     "name": "stdout",
     "output_type": "stream",
     "text": [
      "Requests remaining: 4998\n",
      "Rate limit resets at: 2024-11-28 14:57:36\n"
     ]
    }
   ],
   "source": [
    "remaining, reset_time = check_rate_limit_status()"
   ]
  },
  {
   "cell_type": "code",
   "execution_count": 17,
   "metadata": {
    "colab": {
     "base_uri": "https://localhost:8080/"
    },
    "id": "23Sa-bYpb0UA",
    "outputId": "d5143ce8-6a5c-4982-8cba-5a2ae226fe1f"
   },
   "outputs": [
    {
     "name": "stdout",
     "output_type": "stream",
     "text": [
      "[\n",
      "  {\n",
      "    \"sha\": \"7fd1a60b01f91b314f59955a4e4d4e80d8edf11d\",\n",
      "    \"node_id\": \"MDY6Q29tbWl0MTI5NjI2OTo3ZmQxYTYwYjAxZjkxYjMxNGY1OTk1NWE0ZTRkNGU4MGQ4ZWRmMTFk\",\n",
      "    \"commit\": {\n",
      "      \"author\": {\n",
      "        \"name\": \"The Octocat\",\n",
      "        \"email\": \"octocat@nowhere.com\",\n",
      "        \"date\": \"2012-03-06T23:06:50Z\"\n",
      "      },\n",
      "      \"committer\": {\n",
      "        \"name\": \"The Octocat\",\n",
      "        \"email\": \"octocat@nowhere.com\",\n",
      "        \"date\": \"2012-03-06T23:06:50Z\"\n",
      "      },\n",
      "      \"message\": \"Merge pull request #6 from Spaceghost/patch-1\\n\\nNew line at end of file.\",\n",
      "      \"tree\": {\n",
      "        \"sha\": \"b4eecafa9be2f2006ce1b709d6857b07069b4608\",\n",
      "        \"url\": \"https://api.github.com/repos/octocat/Hello-World/git/trees/b4eecafa9be2f2006ce1b709d6857b07069b4608\"\n",
      "      },\n",
      "      \"url\": \"https://api.github.com/repos/octocat/Hello-World/git/commits/7fd1a60b01f91b314f59955a4e4d4e80d8edf11d\",\n",
      "      \"comment_count\": 86,\n",
      "      \"verification\": {\n",
      "        \"verified\": false,\n",
      "        \"reason\": \"unsigned\",\n",
      "        \"signature\": null,\n",
      "        \"payload\": null,\n",
      "        \"verified_at\": null\n",
      "      }\n",
      "    },\n",
      "    \"url\": \"https://api.github.com/repos/octocat/Hello-World/commits/7fd1a60b01f91b314f59955a4e4d4e80d8edf11d\",\n",
      "    \"html_url\": \"https://github.com/octocat/Hello-World/commit/7fd1a60b01f91b314f59955a4e4d4e80d8edf11d\",\n",
      "    \"comments_url\": \"https://api.github.com/repos/octocat/Hello-World/commits/7fd1a60b01f91b314f59955a4e4d4e80d8edf11d/comments\",\n",
      "    \"author\": {\n",
      "      \"login\": \"octocat\",\n",
      "      \"id\": 583231,\n",
      "      \"node_id\": \"MDQ6VXNlcjU4MzIzMQ==\",\n",
      "      \"avatar_url\": \"https://avatars.githubusercontent.com/u/583231?v=4\",\n",
      "      \"gravatar_id\": \"\",\n",
      "      \"url\": \"https://api.github.com/users/octocat\",\n",
      "      \"html_url\": \"https://github.com/octocat\",\n",
      "      \"followers_url\": \"https://api.github.com/users/octocat/followers\",\n",
      "      \"following_url\": \"https://api.github.com/users/octocat/following{/other_user}\",\n",
      "      \"gists_url\": \"https://api.github.com/users/octocat/gists{/gist_id}\",\n",
      "      \"starred_url\": \"https://api.github.com/users/octocat/starred{/owner}{/repo}\",\n",
      "      \"subscriptions_url\": \"https://api.github.com/users/octocat/subscriptions\",\n",
      "      \"organizations_url\": \"https://api.github.com/users/octocat/orgs\",\n",
      "      \"repos_url\": \"https://api.github.com/users/octocat/repos\",\n",
      "      \"events_url\": \"https://api.github.com/users/octocat/events{/privacy}\",\n",
      "      \"received_events_url\": \"https://api.github.com/users/octocat/received_events\",\n",
      "      \"type\": \"User\",\n",
      "      \"user_view_type\": \"public\",\n",
      "      \"site_admin\": false\n",
      "    },\n",
      "    \"committer\": {\n",
      "      \"login\": \"octocat\",\n",
      "      \"id\": 583231,\n",
      "      \"node_id\": \"MDQ6VXNlcjU4MzIzMQ==\",\n",
      "      \"avatar_url\": \"https://avatars.githubusercontent.com/u/583231?v=4\",\n",
      "      \"gravatar_id\": \"\",\n",
      "      \"url\": \"https://api.github.com/users/octocat\",\n",
      "      \"html_url\": \"https://github.com/octocat\",\n",
      "      \"followers_url\": \"https://api.github.com/users/octocat/followers\",\n",
      "      \"following_url\": \"https://api.github.com/users/octocat/following{/other_user}\",\n",
      "      \"gists_url\": \"https://api.github.com/users/octocat/gists{/gist_id}\",\n",
      "      \"starred_url\": \"https://api.github.com/users/octocat/starred{/owner}{/repo}\",\n",
      "      \"subscriptions_url\": \"https://api.github.com/users/octocat/subscriptions\",\n",
      "      \"organizations_url\": \"https://api.github.com/users/octocat/orgs\",\n",
      "      \"repos_url\": \"https://api.github.com/users/octocat/repos\",\n",
      "      \"events_url\": \"https://api.github.com/users/octocat/events{/privacy}\",\n",
      "      \"received_events_url\": \"https://api.github.com/users/octocat/received_events\",\n",
      "      \"type\": \"User\",\n",
      "      \"user_view_type\": \"public\",\n",
      "      \"site_admin\": false\n",
      "    },\n",
      "    \"parents\": [\n",
      "      {\n",
      "        \"sha\": \"553c2077f0edc3d5dc5d17262f6aa498e69d6f8e\",\n",
      "        \"url\": \"https://api.github.com/repos/octocat/Hello-World/commits/553c2077f0edc3d5dc5d17262f6aa498e69d6f8e\",\n",
      "        \"html_url\": \"https://github.com/octocat/Hello-World/commit/553c2077f0edc3d5dc5d17262f6aa498e69d6f8e\"\n",
      "      },\n",
      "      {\n",
      "        \"sha\": \"762941318ee16e59dabbacb1b4049eec22f0d303\",\n",
      "        \"url\": \"https://api.github.com/repos/octocat/Hello-World/commits/762941318ee16e59dabbacb1b4049eec22f0d303\",\n",
      "        \"html_url\": \"https://github.com/octocat/Hello-World/commit/762941318ee16e59dabbacb1b4049eec22f0d303\"\n",
      "      }\n",
      "    ]\n",
      "  },\n",
      "  {\n",
      "    \"sha\": \"762941318ee16e59dabbacb1b4049eec22f0d303\",\n",
      "    \"node_id\": \"MDY6Q29tbWl0MTI5NjI2OTo3NjI5NDEzMThlZTE2ZTU5ZGFiYmFjYjFiNDA0OWVlYzIyZjBkMzAz\",\n",
      "    \"commit\": {\n",
      "      \"author\": {\n",
      "        \"name\": \"Johnneylee Jack Rollins\",\n",
      "        \"email\": \"Johnneylee.rollins@gmail.com\",\n",
      "        \"date\": \"2011-09-14T04:42:41Z\"\n",
      "      },\n",
      "      \"committer\": {\n",
      "        \"name\": \"Johnneylee Jack Rollins\",\n",
      "        \"email\": \"Johnneylee.rollins@gmail.com\",\n",
      "        \"date\": \"2011-09-14T04:42:41Z\"\n",
      "      },\n",
      "      \"message\": \"New line at end of file. --Signed off by Spaceghost\",\n",
      "      \"tree\": {\n",
      "        \"sha\": \"b4eecafa9be2f2006ce1b709d6857b07069b4608\",\n",
      "        \"url\": \"https://api.github.com/repos/octocat/Hello-World/git/trees/b4eecafa9be2f2006ce1b709d6857b07069b4608\"\n",
      "      },\n",
      "      \"url\": \"https://api.github.com/repos/octocat/Hello-World/git/commits/762941318ee16e59dabbacb1b4049eec22f0d303\",\n",
      "      \"comment_count\": 168,\n",
      "      \"verification\": {\n",
      "        \"verified\": false,\n",
      "        \"reason\": \"unsigned\",\n",
      "        \"signature\": null,\n",
      "        \"payload\": null,\n",
      "        \"verified_at\": null\n",
      "      }\n",
      "    },\n",
      "    \"url\": \"https://api.github.com/repos/octocat/Hello-World/commits/762941318ee16e59dabbacb1b4049eec22f0d303\",\n",
      "    \"html_url\": \"https://github.com/octocat/Hello-World/commit/762941318ee16e59dabbacb1b4049eec22f0d303\",\n",
      "    \"comments_url\": \"https://api.github.com/repos/octocat/Hello-World/commits/762941318ee16e59dabbacb1b4049eec22f0d303/comments\",\n",
      "    \"author\": {\n",
      "      \"login\": \"Spaceghost\",\n",
      "      \"id\": 251370,\n",
      "      \"node_id\": \"MDQ6VXNlcjI1MTM3MA==\",\n",
      "      \"avatar_url\": \"https://avatars.githubusercontent.com/u/251370?v=4\",\n",
      "      \"gravatar_id\": \"\",\n",
      "      \"url\": \"https://api.github.com/users/Spaceghost\",\n",
      "      \"html_url\": \"https://github.com/Spaceghost\",\n",
      "      \"followers_url\": \"https://api.github.com/users/Spaceghost/followers\",\n",
      "      \"following_url\": \"https://api.github.com/users/Spaceghost/following{/other_user}\",\n",
      "      \"gists_url\": \"https://api.github.com/users/Spaceghost/gists{/gist_id}\",\n",
      "      \"starred_url\": \"https://api.github.com/users/Spaceghost/starred{/owner}{/repo}\",\n",
      "      \"subscriptions_url\": \"https://api.github.com/users/Spaceghost/subscriptions\",\n",
      "      \"organizations_url\": \"https://api.github.com/users/Spaceghost/orgs\",\n",
      "      \"repos_url\": \"https://api.github.com/users/Spaceghost/repos\",\n",
      "      \"events_url\": \"https://api.github.com/users/Spaceghost/events{/privacy}\",\n",
      "      \"received_events_url\": \"https://api.github.com/users/Spaceghost/received_events\",\n",
      "      \"type\": \"User\",\n",
      "      \"user_view_type\": \"public\",\n",
      "      \"site_admin\": false\n",
      "    },\n",
      "    \"committer\": {\n",
      "      \"login\": \"Spaceghost\",\n",
      "      \"id\": 251370,\n",
      "      \"node_id\": \"MDQ6VXNlcjI1MTM3MA==\",\n",
      "      \"avatar_url\": \"https://avatars.githubusercontent.com/u/251370?v=4\",\n",
      "      \"gravatar_id\": \"\",\n",
      "      \"url\": \"https://api.github.com/users/Spaceghost\",\n",
      "      \"html_url\": \"https://github.com/Spaceghost\",\n",
      "      \"followers_url\": \"https://api.github.com/users/Spaceghost/followers\",\n",
      "      \"following_url\": \"https://api.github.com/users/Spaceghost/following{/other_user}\",\n",
      "      \"gists_url\": \"https://api.github.com/users/Spaceghost/gists{/gist_id}\",\n",
      "      \"starred_url\": \"https://api.github.com/users/Spaceghost/starred{/owner}{/repo}\",\n",
      "      \"subscriptions_url\": \"https://api.github.com/users/Spaceghost/subscriptions\",\n",
      "      \"organizations_url\": \"https://api.github.com/users/Spaceghost/orgs\",\n",
      "      \"repos_url\": \"https://api.github.com/users/Spaceghost/repos\",\n",
      "      \"events_url\": \"https://api.github.com/users/Spaceghost/events{/privacy}\",\n",
      "      \"received_events_url\": \"https://api.github.com/users/Spaceghost/received_events\",\n",
      "      \"type\": \"User\",\n",
      "      \"user_view_type\": \"public\",\n",
      "      \"site_admin\": false\n",
      "    },\n",
      "    \"parents\": [\n",
      "      {\n",
      "        \"sha\": \"553c2077f0edc3d5dc5d17262f6aa498e69d6f8e\",\n",
      "        \"url\": \"https://api.github.com/repos/octocat/Hello-World/commits/553c2077f0edc3d5dc5d17262f6aa498e69d6f8e\",\n",
      "        \"html_url\": \"https://github.com/octocat/Hello-World/commit/553c2077f0edc3d5dc5d17262f6aa498e69d6f8e\"\n",
      "      }\n",
      "    ]\n",
      "  }\n",
      "]\n"
     ]
    }
   ],
   "source": [
    "url = 'https://api.github.com/repos/octocat/Hello-World/commits'\n",
    "response = safe_request(url, headers)\n",
    "\n",
    "if response:\n",
    "    commits = response.json()\n",
    "    print(json.dumps(commits[:2], indent=2))\n",
    "else:\n",
    "    print('Failed to retrieve data.')\n"
   ]
  },
  {
   "cell_type": "code",
   "execution_count": 31,
   "metadata": {
    "id": "vtnlm8jUb58c"
   },
   "outputs": [],
   "source": [
    "def extract_data(query, max_repos=5):\n",
    "    \"\"\"\n",
    "    Complete data extraction process:\n",
    "    1. Search repositories based on query.\n",
    "    2. For each repository, fetch commits and contents.\n",
    "    \"\"\"\n",
    "    remaining, reset_time = check_rate_limit(headers)\n",
    "    if remaining == 0:\n",
    "        print(f'Rate limit exceeded. Please wait until {time.strftime(\"%Y-%m-%d %H:%M:%S\", time.localtime(reset_time))}.')\n",
    "        return\n",
    "\n",
    "    print(f\"Searching repositories for query: '{query}'\")\n",
    "    cleaned_repositories = search_repositories_clean(query, per_page=100)\n",
    "    print(f\"Total repositories found: {len(cleaned_repositories)}\")\n",
    "\n",
    "    for repo in cleaned_repositories[:max_repos]:\n",
    "        owner = repo['owner']\n",
    "        repo_name = repo['name']\n",
    "        print(f\"\\nRepository: {owner}/{repo_name}\")\n",
    "\n",
    "        print(\"Fetching commits...\")\n",
    "        commits = list_commits_clean(owner, repo_name)\n",
    "        print(f\"Number of commits fetched: {len(commits)}\")\n",
    "\n",
    "        print(\"Fetching repository contents...\")\n",
    "        contents = get_repository_contents_clean(owner, repo_name)\n",
    "        print(f\"Number of items in repository root: {len(contents)}\")\n"
   ]
  },
  {
   "cell_type": "code",
   "execution_count": 32,
   "metadata": {
    "colab": {
     "base_uri": "https://localhost:8080/"
    },
    "id": "YzaEvkqfb8Ov",
    "outputId": "c8cea4a5-a58c-48b1-a8a4-9df7cf38af03"
   },
   "outputs": [],
   "source": [
    "extract_data('machine learning', max_repos=5)"
   ]
  },
  {
   "cell_type": "code",
   "execution_count": 33,
   "metadata": {
    "colab": {
     "base_uri": "https://localhost:8080/"
    },
    "id": "9DkqIXOV1_SD",
    "outputId": "480a8363-ead3-4e70-ff27-88fa67f4f056"
   },
   "outputs": [],
   "source": [
    "remaining, reset_time = check_rate_limit_status()\n",
    "\n",
    "print(\"Data extraction process completed.\")"
   ]
  }
 ],
 "metadata": {
  "colab": {
   "provenance": []
  },
  "kernelspec": {
   "display_name": "Python 3",
   "name": "python3"
  },
  "language_info": {
   "codemirror_mode": {
    "name": "ipython",
    "version": 3
   },
   "file_extension": ".py",
   "mimetype": "text/x-python",
   "name": "python",
   "nbconvert_exporter": "python",
   "pygments_lexer": "ipython3",
   "version": "3.10.11"
  }
 },
 "nbformat": 4,
 "nbformat_minor": 0
}
